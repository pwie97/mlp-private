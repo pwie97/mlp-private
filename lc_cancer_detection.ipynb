{
 "cells": [
  {
   "cell_type": "markdown",
   "metadata": {},
   "source": [
    "# Lung and Colon Cancer Detection\n",
    "This notebook demonstrates the process of building a machine learning model to detect lung and colon cancer using histopathological images. The dataset contains labeled images of cancerous and non-cancerous (<em>healthy</em>) tissues. <br> There are five classes in this dataset: <br> - Lung benign tissue (<em>healthy</em>) <br> - Lung adenocarcinoma <br> - Lung squamos cell carcinoma <br> - Colon adenocarcinoma <br> - Colong benign tissue (<em>healthy</em>) <br> <br> The goal is to develop a robust classifier that can accurately identify cancerous lung or colon tissues from the given sample images. <br> <br> The dataset used in this notebook is sourced from Kaggle: https://www.kaggle.com/datasets/andrewmvd/lung-and-colon-cancer-histopathological-images/data"
   ]
  },
  {
   "cell_type": "markdown",
   "metadata": {},
   "source": [
    "## Required Packages"
   ]
  },
  {
   "cell_type": "code",
   "execution_count": 1,
   "metadata": {},
   "outputs": [],
   "source": [
    "import os"
   ]
  },
  {
   "cell_type": "markdown",
   "metadata": {},
   "source": [
    "## Import Dataset"
   ]
  },
  {
   "cell_type": "code",
   "execution_count": 7,
   "metadata": {},
   "outputs": [],
   "source": [
    "lung_dataset = '../lung_colon_image_set/lung_image_sets'\n",
    "colon_dataset = '../lung_colon_image_set/colon_image_sets'\n",
    "\n",
    "if not os.path.exists(lung_dataset):\n",
    "    raise FileNotFoundError(f\"Dataset path '{lung_dataset}' does not exist!\")\n",
    "if not os.path.exists(colon_dataset):\n",
    "    raise FileNotFoundError(f\"Dataset path '{colon_dataset}' does not exist!\")"
   ]
  }
 ],
 "metadata": {
  "kernelspec": {
   "display_name": "Python 3",
   "language": "python",
   "name": "python3"
  },
  "language_info": {
   "codemirror_mode": {
    "name": "ipython",
    "version": 3
   },
   "file_extension": ".py",
   "mimetype": "text/x-python",
   "name": "python",
   "nbconvert_exporter": "python",
   "pygments_lexer": "ipython3",
   "version": "3.12.7"
  }
 },
 "nbformat": 4,
 "nbformat_minor": 2
}
